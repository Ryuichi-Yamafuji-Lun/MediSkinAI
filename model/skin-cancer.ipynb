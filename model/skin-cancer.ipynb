{
 "cells": [
  {
   "cell_type": "code",
   "execution_count": 1,
   "metadata": {
    "_cell_guid": "b1076dfc-b9ad-4769-8c92-a6c4dae69d19",
    "_uuid": "8f2839f25d086af736a60e9eeb907d3b93b6e0e5",
    "execution": {
     "iopub.execute_input": "2024-12-27T01:33:38.980570Z",
     "iopub.status.busy": "2024-12-27T01:33:38.980230Z",
     "iopub.status.idle": "2024-12-27T01:33:39.293968Z",
     "shell.execute_reply": "2024-12-27T01:33:39.293264Z",
     "shell.execute_reply.started": "2024-12-27T01:33:38.980544Z"
    },
    "trusted": true
   },
   "outputs": [],
   "source": [
    "# This Python 3 environment comes with many helpful analytics libraries installed\n",
    "# It is defined by the kaggle/python Docker image: https://github.com/kaggle/docker-python\n",
    "# For example, here's several helpful packages to load\n",
    "\n",
    "import numpy as np # linear algebra\n",
    "import pandas as pd # data processing, CSV file I/O (e.g. pd.read_csv)\n",
    "import os\n",
    "import shutil\n",
    "import matplotlib\n",
    "from matplotlib import pyplot as plt"
   ]
  },
  {
   "cell_type": "markdown",
   "metadata": {},
   "source": [
    "### Data PreProcessing"
   ]
  },
  {
   "cell_type": "code",
   "execution_count": 2,
   "metadata": {
    "execution": {
     "iopub.execute_input": "2024-12-27T01:33:39.295653Z",
     "iopub.status.busy": "2024-12-27T01:33:39.295297Z",
     "iopub.status.idle": "2024-12-27T01:33:39.897146Z",
     "shell.execute_reply": "2024-12-27T01:33:39.896248Z",
     "shell.execute_reply.started": "2024-12-27T01:33:39.295626Z"
    },
    "trusted": true
   },
   "outputs": [
    {
     "name": "stderr",
     "output_type": "stream",
     "text": [
      "/var/folders/fz/yzxc44ln28g5c8n9vvsgs6fw0000gn/T/ipykernel_43787/372378936.py:2: DtypeWarning: Columns (16,23,25,26) have mixed types. Specify dtype option on import or set low_memory=False.\n",
      "  df1 = pd.read_csv(\"ISIC-images/metadata.csv\")\n"
     ]
    },
    {
     "data": {
      "text/html": [
       "<div>\n",
       "<style scoped>\n",
       "    .dataframe tbody tr th:only-of-type {\n",
       "        vertical-align: middle;\n",
       "    }\n",
       "\n",
       "    .dataframe tbody tr th {\n",
       "        vertical-align: top;\n",
       "    }\n",
       "\n",
       "    .dataframe thead th {\n",
       "        text-align: right;\n",
       "    }\n",
       "</style>\n",
       "<table border=\"1\" class=\"dataframe\">\n",
       "  <thead>\n",
       "    <tr style=\"text-align: right;\">\n",
       "      <th></th>\n",
       "      <th>isic_id</th>\n",
       "      <th>attribution</th>\n",
       "      <th>copyright_license</th>\n",
       "      <th>acquisition_day</th>\n",
       "      <th>age_approx</th>\n",
       "      <th>anatom_site_general</th>\n",
       "      <th>anatom_site_special</th>\n",
       "      <th>benign_malignant</th>\n",
       "      <th>clin_size_long_diam_mm</th>\n",
       "      <th>concomitant_biopsy</th>\n",
       "      <th>...</th>\n",
       "      <th>mel_class</th>\n",
       "      <th>mel_mitotic_index</th>\n",
       "      <th>mel_thick_mm</th>\n",
       "      <th>mel_type</th>\n",
       "      <th>mel_ulcer</th>\n",
       "      <th>melanocytic</th>\n",
       "      <th>nevus_type</th>\n",
       "      <th>patient_id</th>\n",
       "      <th>personal_hx_mm</th>\n",
       "      <th>sex</th>\n",
       "    </tr>\n",
       "  </thead>\n",
       "  <tbody>\n",
       "    <tr>\n",
       "      <th>0</th>\n",
       "      <td>ISIC_0015719</td>\n",
       "      <td>The University of Queensland Diamantina Instit...</td>\n",
       "      <td>CC-BY</td>\n",
       "      <td>556.0</td>\n",
       "      <td>45.0</td>\n",
       "      <td>upper extremity</td>\n",
       "      <td>NaN</td>\n",
       "      <td>benign</td>\n",
       "      <td>NaN</td>\n",
       "      <td>False</td>\n",
       "      <td>...</td>\n",
       "      <td>NaN</td>\n",
       "      <td>NaN</td>\n",
       "      <td>NaN</td>\n",
       "      <td>NaN</td>\n",
       "      <td>NaN</td>\n",
       "      <td>NaN</td>\n",
       "      <td>NaN</td>\n",
       "      <td>IP_3075186</td>\n",
       "      <td>True</td>\n",
       "      <td>female</td>\n",
       "    </tr>\n",
       "    <tr>\n",
       "      <th>1</th>\n",
       "      <td>ISIC_0052212</td>\n",
       "      <td>ViDIR Group, Department of Dermatology, Medica...</td>\n",
       "      <td>CC-BY-NC</td>\n",
       "      <td>366.0</td>\n",
       "      <td>50.0</td>\n",
       "      <td>lower extremity</td>\n",
       "      <td>NaN</td>\n",
       "      <td>benign</td>\n",
       "      <td>NaN</td>\n",
       "      <td>False</td>\n",
       "      <td>...</td>\n",
       "      <td>NaN</td>\n",
       "      <td>NaN</td>\n",
       "      <td>NaN</td>\n",
       "      <td>NaN</td>\n",
       "      <td>NaN</td>\n",
       "      <td>True</td>\n",
       "      <td>NaN</td>\n",
       "      <td>IP_2842074</td>\n",
       "      <td>NaN</td>\n",
       "      <td>female</td>\n",
       "    </tr>\n",
       "    <tr>\n",
       "      <th>2</th>\n",
       "      <td>ISIC_0068279</td>\n",
       "      <td>Department of Dermatology, Hospital Clínic de ...</td>\n",
       "      <td>CC-BY-NC</td>\n",
       "      <td>NaN</td>\n",
       "      <td>45.0</td>\n",
       "      <td>head/neck</td>\n",
       "      <td>NaN</td>\n",
       "      <td>benign</td>\n",
       "      <td>NaN</td>\n",
       "      <td>False</td>\n",
       "      <td>...</td>\n",
       "      <td>NaN</td>\n",
       "      <td>NaN</td>\n",
       "      <td>NaN</td>\n",
       "      <td>NaN</td>\n",
       "      <td>NaN</td>\n",
       "      <td>NaN</td>\n",
       "      <td>NaN</td>\n",
       "      <td>IP_6890425</td>\n",
       "      <td>NaN</td>\n",
       "      <td>female</td>\n",
       "    </tr>\n",
       "    <tr>\n",
       "      <th>3</th>\n",
       "      <td>ISIC_0074268</td>\n",
       "      <td>The University of Queensland Diamantina Instit...</td>\n",
       "      <td>CC-BY</td>\n",
       "      <td>659.0</td>\n",
       "      <td>55.0</td>\n",
       "      <td>upper extremity</td>\n",
       "      <td>NaN</td>\n",
       "      <td>benign</td>\n",
       "      <td>NaN</td>\n",
       "      <td>False</td>\n",
       "      <td>...</td>\n",
       "      <td>NaN</td>\n",
       "      <td>NaN</td>\n",
       "      <td>NaN</td>\n",
       "      <td>NaN</td>\n",
       "      <td>NaN</td>\n",
       "      <td>NaN</td>\n",
       "      <td>NaN</td>\n",
       "      <td>IP_8723313</td>\n",
       "      <td>True</td>\n",
       "      <td>female</td>\n",
       "    </tr>\n",
       "    <tr>\n",
       "      <th>4</th>\n",
       "      <td>ISIC_0074311</td>\n",
       "      <td>The University of Queensland Diamantina Instit...</td>\n",
       "      <td>CC-BY</td>\n",
       "      <td>358.0</td>\n",
       "      <td>45.0</td>\n",
       "      <td>lower extremity</td>\n",
       "      <td>NaN</td>\n",
       "      <td>benign</td>\n",
       "      <td>NaN</td>\n",
       "      <td>False</td>\n",
       "      <td>...</td>\n",
       "      <td>NaN</td>\n",
       "      <td>NaN</td>\n",
       "      <td>NaN</td>\n",
       "      <td>NaN</td>\n",
       "      <td>NaN</td>\n",
       "      <td>NaN</td>\n",
       "      <td>NaN</td>\n",
       "      <td>IP_2950485</td>\n",
       "      <td>True</td>\n",
       "      <td>female</td>\n",
       "    </tr>\n",
       "  </tbody>\n",
       "</table>\n",
       "<p>5 rows × 32 columns</p>\n",
       "</div>"
      ],
      "text/plain": [
       "        isic_id                                        attribution  \\\n",
       "0  ISIC_0015719  The University of Queensland Diamantina Instit...   \n",
       "1  ISIC_0052212  ViDIR Group, Department of Dermatology, Medica...   \n",
       "2  ISIC_0068279  Department of Dermatology, Hospital Clínic de ...   \n",
       "3  ISIC_0074268  The University of Queensland Diamantina Instit...   \n",
       "4  ISIC_0074311  The University of Queensland Diamantina Instit...   \n",
       "\n",
       "  copyright_license  acquisition_day  age_approx anatom_site_general  \\\n",
       "0             CC-BY            556.0        45.0     upper extremity   \n",
       "1          CC-BY-NC            366.0        50.0     lower extremity   \n",
       "2          CC-BY-NC              NaN        45.0           head/neck   \n",
       "3             CC-BY            659.0        55.0     upper extremity   \n",
       "4             CC-BY            358.0        45.0     lower extremity   \n",
       "\n",
       "  anatom_site_special benign_malignant  clin_size_long_diam_mm  \\\n",
       "0                 NaN           benign                     NaN   \n",
       "1                 NaN           benign                     NaN   \n",
       "2                 NaN           benign                     NaN   \n",
       "3                 NaN           benign                     NaN   \n",
       "4                 NaN           benign                     NaN   \n",
       "\n",
       "   concomitant_biopsy  ... mel_class mel_mitotic_index mel_thick_mm mel_type  \\\n",
       "0               False  ...       NaN               NaN          NaN      NaN   \n",
       "1               False  ...       NaN               NaN          NaN      NaN   \n",
       "2               False  ...       NaN               NaN          NaN      NaN   \n",
       "3               False  ...       NaN               NaN          NaN      NaN   \n",
       "4               False  ...       NaN               NaN          NaN      NaN   \n",
       "\n",
       "  mel_ulcer melanocytic nevus_type  patient_id personal_hx_mm     sex  \n",
       "0       NaN         NaN        NaN  IP_3075186           True  female  \n",
       "1       NaN        True        NaN  IP_2842074            NaN  female  \n",
       "2       NaN         NaN        NaN  IP_6890425            NaN  female  \n",
       "3       NaN         NaN        NaN  IP_8723313           True  female  \n",
       "4       NaN         NaN        NaN  IP_2950485           True  female  \n",
       "\n",
       "[5 rows x 32 columns]"
      ]
     },
     "execution_count": 2,
     "metadata": {},
     "output_type": "execute_result"
    }
   ],
   "source": [
    "# retrieve csv metadata of the HAM10000\n",
    "df1 = pd.read_csv(\"ISIC-images/metadata.csv\")\n",
    "df1.head()"
   ]
  },
  {
   "cell_type": "code",
   "execution_count": 3,
   "metadata": {
    "execution": {
     "iopub.execute_input": "2024-12-27T01:33:39.899352Z",
     "iopub.status.busy": "2024-12-27T01:33:39.898357Z",
     "iopub.status.idle": "2024-12-27T01:33:39.905109Z",
     "shell.execute_reply": "2024-12-27T01:33:39.904301Z",
     "shell.execute_reply.started": "2024-12-27T01:33:39.899311Z"
    },
    "trusted": true
   },
   "outputs": [
    {
     "data": {
      "text/plain": [
       "(33126, 32)"
      ]
     },
     "execution_count": 3,
     "metadata": {},
     "output_type": "execute_result"
    }
   ],
   "source": [
    "df1.shape"
   ]
  },
  {
   "cell_type": "code",
   "execution_count": 4,
   "metadata": {
    "execution": {
     "iopub.execute_input": "2024-12-27T01:33:39.907018Z",
     "iopub.status.busy": "2024-12-27T01:33:39.906710Z",
     "iopub.status.idle": "2024-12-27T01:33:39.922451Z",
     "shell.execute_reply": "2024-12-27T01:33:39.921584Z",
     "shell.execute_reply.started": "2024-12-27T01:33:39.906994Z"
    },
    "trusted": true
   },
   "outputs": [
    {
     "data": {
      "text/html": [
       "<div>\n",
       "<style scoped>\n",
       "    .dataframe tbody tr th:only-of-type {\n",
       "        vertical-align: middle;\n",
       "    }\n",
       "\n",
       "    .dataframe tbody tr th {\n",
       "        vertical-align: top;\n",
       "    }\n",
       "\n",
       "    .dataframe thead th {\n",
       "        text-align: right;\n",
       "    }\n",
       "</style>\n",
       "<table border=\"1\" class=\"dataframe\">\n",
       "  <thead>\n",
       "    <tr style=\"text-align: right;\">\n",
       "      <th></th>\n",
       "      <th>isic_id</th>\n",
       "      <th>benign_malignant</th>\n",
       "    </tr>\n",
       "  </thead>\n",
       "  <tbody>\n",
       "    <tr>\n",
       "      <th>0</th>\n",
       "      <td>ISIC_0015719</td>\n",
       "      <td>benign</td>\n",
       "    </tr>\n",
       "    <tr>\n",
       "      <th>1</th>\n",
       "      <td>ISIC_0052212</td>\n",
       "      <td>benign</td>\n",
       "    </tr>\n",
       "    <tr>\n",
       "      <th>2</th>\n",
       "      <td>ISIC_0068279</td>\n",
       "      <td>benign</td>\n",
       "    </tr>\n",
       "    <tr>\n",
       "      <th>3</th>\n",
       "      <td>ISIC_0074268</td>\n",
       "      <td>benign</td>\n",
       "    </tr>\n",
       "    <tr>\n",
       "      <th>4</th>\n",
       "      <td>ISIC_0074311</td>\n",
       "      <td>benign</td>\n",
       "    </tr>\n",
       "  </tbody>\n",
       "</table>\n",
       "</div>"
      ],
      "text/plain": [
       "        isic_id benign_malignant\n",
       "0  ISIC_0015719           benign\n",
       "1  ISIC_0052212           benign\n",
       "2  ISIC_0068279           benign\n",
       "3  ISIC_0074268           benign\n",
       "4  ISIC_0074311           benign"
      ]
     },
     "execution_count": 4,
     "metadata": {},
     "output_type": "execute_result"
    }
   ],
   "source": [
    "# remmove unnecessary columns\n",
    "df2 = df1[['isic_id','benign_malignant']]\n",
    "\n",
    "df2.head()"
   ]
  },
  {
   "cell_type": "code",
   "execution_count": 5,
   "metadata": {
    "execution": {
     "iopub.execute_input": "2024-12-27T01:33:39.923599Z",
     "iopub.status.busy": "2024-12-27T01:33:39.923361Z",
     "iopub.status.idle": "2024-12-27T01:33:39.961057Z",
     "shell.execute_reply": "2024-12-27T01:33:39.960182Z",
     "shell.execute_reply.started": "2024-12-27T01:33:39.923575Z"
    },
    "trusted": true
   },
   "outputs": [
    {
     "name": "stdout",
     "output_type": "stream",
     "text": [
      "0 duplicate rows found.\n"
     ]
    },
    {
     "data": {
      "text/html": [
       "<div>\n",
       "<style scoped>\n",
       "    .dataframe tbody tr th:only-of-type {\n",
       "        vertical-align: middle;\n",
       "    }\n",
       "\n",
       "    .dataframe tbody tr th {\n",
       "        vertical-align: top;\n",
       "    }\n",
       "\n",
       "    .dataframe thead th {\n",
       "        text-align: right;\n",
       "    }\n",
       "</style>\n",
       "<table border=\"1\" class=\"dataframe\">\n",
       "  <thead>\n",
       "    <tr style=\"text-align: right;\">\n",
       "      <th></th>\n",
       "      <th>isic_id</th>\n",
       "      <th>benign_malignant</th>\n",
       "    </tr>\n",
       "  </thead>\n",
       "  <tbody>\n",
       "    <tr>\n",
       "      <th>0</th>\n",
       "      <td>ISIC_0015719</td>\n",
       "      <td>benign</td>\n",
       "    </tr>\n",
       "    <tr>\n",
       "      <th>1</th>\n",
       "      <td>ISIC_0052212</td>\n",
       "      <td>benign</td>\n",
       "    </tr>\n",
       "    <tr>\n",
       "      <th>2</th>\n",
       "      <td>ISIC_0068279</td>\n",
       "      <td>benign</td>\n",
       "    </tr>\n",
       "    <tr>\n",
       "      <th>3</th>\n",
       "      <td>ISIC_0074268</td>\n",
       "      <td>benign</td>\n",
       "    </tr>\n",
       "    <tr>\n",
       "      <th>4</th>\n",
       "      <td>ISIC_0074311</td>\n",
       "      <td>benign</td>\n",
       "    </tr>\n",
       "  </tbody>\n",
       "</table>\n",
       "</div>"
      ],
      "text/plain": [
       "        isic_id benign_malignant\n",
       "0  ISIC_0015719           benign\n",
       "1  ISIC_0052212           benign\n",
       "2  ISIC_0068279           benign\n",
       "3  ISIC_0074268           benign\n",
       "4  ISIC_0074311           benign"
      ]
     },
     "execution_count": 5,
     "metadata": {},
     "output_type": "execute_result"
    }
   ],
   "source": [
    "# check for duplicates\n",
    "duplicates = df2.duplicated()\n",
    "print(duplicates.sum(), \"duplicate rows found.\")\n",
    "df3 = df2.drop_duplicates()\n",
    "df3.head()"
   ]
  },
  {
   "cell_type": "code",
   "execution_count": 6,
   "metadata": {
    "execution": {
     "iopub.execute_input": "2024-12-27T01:33:39.962097Z",
     "iopub.status.busy": "2024-12-27T01:33:39.961870Z",
     "iopub.status.idle": "2024-12-27T01:33:39.969616Z",
     "shell.execute_reply": "2024-12-27T01:33:39.968760Z",
     "shell.execute_reply.started": "2024-12-27T01:33:39.962073Z"
    },
    "trusted": true
   },
   "outputs": [
    {
     "name": "stdout",
     "output_type": "stream",
     "text": [
      "isic_id             0\n",
      "benign_malignant    0\n",
      "dtype: int64\n"
     ]
    }
   ],
   "source": [
    "# chekc for null values\n",
    "print(df3.isnull().sum())"
   ]
  },
  {
   "cell_type": "code",
   "execution_count": 7,
   "metadata": {
    "execution": {
     "iopub.execute_input": "2024-12-27T01:33:39.970835Z",
     "iopub.status.busy": "2024-12-27T01:33:39.970523Z",
     "iopub.status.idle": "2024-12-27T01:33:39.985425Z",
     "shell.execute_reply": "2024-12-27T01:33:39.984770Z",
     "shell.execute_reply.started": "2024-12-27T01:33:39.970806Z"
    },
    "trusted": true
   },
   "outputs": [
    {
     "data": {
      "text/plain": [
       "array(['benign', 'malignant'], dtype=object)"
      ]
     },
     "execution_count": 7,
     "metadata": {},
     "output_type": "execute_result"
    }
   ],
   "source": [
    "# check for all unique values of the diagnosis section of the dataset\n",
    "df3[\"benign_malignant\"].unique()"
   ]
  },
  {
   "cell_type": "code",
   "execution_count": 8,
   "metadata": {
    "execution": {
     "iopub.execute_input": "2024-12-27T01:33:39.986734Z",
     "iopub.status.busy": "2024-12-27T01:33:39.986390Z",
     "iopub.status.idle": "2024-12-27T01:33:39.998175Z",
     "shell.execute_reply": "2024-12-27T01:33:39.997281Z",
     "shell.execute_reply.started": "2024-12-27T01:33:39.986681Z"
    },
    "trusted": true
   },
   "outputs": [
    {
     "name": "stdout",
     "output_type": "stream",
     "text": [
      "benign_malignant\n",
      "benign       32542\n",
      "malignant      584\n",
      "Name: count, dtype: int64\n"
     ]
    }
   ],
   "source": [
    "print(df3[\"benign_malignant\"].value_counts())"
   ]
  },
  {
   "cell_type": "code",
   "execution_count": 9,
   "metadata": {
    "execution": {
     "iopub.execute_input": "2024-12-27T01:33:39.999454Z",
     "iopub.status.busy": "2024-12-27T01:33:39.999189Z",
     "iopub.status.idle": "2024-12-27T01:33:40.480356Z",
     "shell.execute_reply": "2024-12-27T01:33:40.479498Z",
     "shell.execute_reply.started": "2024-12-27T01:33:39.999419Z"
    },
    "trusted": true
   },
   "outputs": [
    {
     "data": {
      "text/html": [
       "<div>\n",
       "<style scoped>\n",
       "    .dataframe tbody tr th:only-of-type {\n",
       "        vertical-align: middle;\n",
       "    }\n",
       "\n",
       "    .dataframe tbody tr th {\n",
       "        vertical-align: top;\n",
       "    }\n",
       "\n",
       "    .dataframe thead th {\n",
       "        text-align: right;\n",
       "    }\n",
       "</style>\n",
       "<table border=\"1\" class=\"dataframe\">\n",
       "  <thead>\n",
       "    <tr style=\"text-align: right;\">\n",
       "      <th></th>\n",
       "      <th>isic_id</th>\n",
       "      <th>benign_malignant</th>\n",
       "      <th>class_label</th>\n",
       "    </tr>\n",
       "  </thead>\n",
       "  <tbody>\n",
       "    <tr>\n",
       "      <th>0</th>\n",
       "      <td>ISIC_0015719</td>\n",
       "      <td>benign</td>\n",
       "      <td>0</td>\n",
       "    </tr>\n",
       "    <tr>\n",
       "      <th>1</th>\n",
       "      <td>ISIC_0052212</td>\n",
       "      <td>benign</td>\n",
       "      <td>0</td>\n",
       "    </tr>\n",
       "    <tr>\n",
       "      <th>2</th>\n",
       "      <td>ISIC_0068279</td>\n",
       "      <td>benign</td>\n",
       "      <td>0</td>\n",
       "    </tr>\n",
       "    <tr>\n",
       "      <th>3</th>\n",
       "      <td>ISIC_0074268</td>\n",
       "      <td>benign</td>\n",
       "      <td>0</td>\n",
       "    </tr>\n",
       "    <tr>\n",
       "      <th>4</th>\n",
       "      <td>ISIC_0074311</td>\n",
       "      <td>benign</td>\n",
       "      <td>0</td>\n",
       "    </tr>\n",
       "  </tbody>\n",
       "</table>\n",
       "</div>"
      ],
      "text/plain": [
       "        isic_id benign_malignant  class_label\n",
       "0  ISIC_0015719           benign            0\n",
       "1  ISIC_0052212           benign            0\n",
       "2  ISIC_0068279           benign            0\n",
       "3  ISIC_0074268           benign            0\n",
       "4  ISIC_0074311           benign            0"
      ]
     },
     "execution_count": 9,
     "metadata": {},
     "output_type": "execute_result"
    }
   ],
   "source": [
    "# Make benign_malignant numnerical values\n",
    "from sklearn.preprocessing import LabelEncoder\n",
    "\n",
    "le = LabelEncoder()\n",
    "\n",
    "df3['class_label'] = le.fit_transform(df3['benign_malignant'])\n",
    "\n",
    "df3.head()"
   ]
  },
  {
   "cell_type": "code",
   "execution_count": 10,
   "metadata": {
    "execution": {
     "iopub.execute_input": "2024-12-27T01:33:40.483258Z",
     "iopub.status.busy": "2024-12-27T01:33:40.482892Z",
     "iopub.status.idle": "2024-12-27T01:33:40.487924Z",
     "shell.execute_reply": "2024-12-27T01:33:40.486912Z",
     "shell.execute_reply.started": "2024-12-27T01:33:40.483225Z"
    },
    "trusted": true
   },
   "outputs": [
    {
     "name": "stdout",
     "output_type": "stream",
     "text": [
      "{0: 'benign', 1: 'malignant'}\n"
     ]
    }
   ],
   "source": [
    "# Check the mapping\n",
    "mapping = {index: label for index, label in enumerate(le.classes_)}\n",
    "print(mapping)"
   ]
  },
  {
   "cell_type": "code",
   "execution_count": 11,
   "metadata": {
    "execution": {
     "iopub.execute_input": "2024-12-27T01:33:40.489256Z",
     "iopub.status.busy": "2024-12-27T01:33:40.488976Z",
     "iopub.status.idle": "2024-12-27T01:33:40.498031Z",
     "shell.execute_reply": "2024-12-27T01:33:40.497176Z",
     "shell.execute_reply.started": "2024-12-27T01:33:40.489231Z"
    },
    "trusted": true
   },
   "outputs": [],
   "source": [
    "# export mapping for later use\n",
    "import json\n",
    "\n",
    "with open('class_mapping.json', 'w') as f:\n",
    "    json.dump(mapping, f)"
   ]
  },
  {
   "cell_type": "code",
   "execution_count": 12,
   "metadata": {
    "execution": {
     "iopub.execute_input": "2024-12-27T01:33:40.499266Z",
     "iopub.status.busy": "2024-12-27T01:33:40.499013Z",
     "iopub.status.idle": "2024-12-27T01:33:40.516508Z",
     "shell.execute_reply": "2024-12-27T01:33:40.515630Z",
     "shell.execute_reply.started": "2024-12-27T01:33:40.499241Z"
    },
    "trusted": true
   },
   "outputs": [
    {
     "data": {
      "text/html": [
       "<div>\n",
       "<style scoped>\n",
       "    .dataframe tbody tr th:only-of-type {\n",
       "        vertical-align: middle;\n",
       "    }\n",
       "\n",
       "    .dataframe tbody tr th {\n",
       "        vertical-align: top;\n",
       "    }\n",
       "\n",
       "    .dataframe thead th {\n",
       "        text-align: right;\n",
       "    }\n",
       "</style>\n",
       "<table border=\"1\" class=\"dataframe\">\n",
       "  <thead>\n",
       "    <tr style=\"text-align: right;\">\n",
       "      <th></th>\n",
       "      <th>isic_id</th>\n",
       "      <th>class_label</th>\n",
       "    </tr>\n",
       "  </thead>\n",
       "  <tbody>\n",
       "    <tr>\n",
       "      <th>0</th>\n",
       "      <td>ISIC_0015719</td>\n",
       "      <td>0</td>\n",
       "    </tr>\n",
       "    <tr>\n",
       "      <th>1</th>\n",
       "      <td>ISIC_0052212</td>\n",
       "      <td>0</td>\n",
       "    </tr>\n",
       "    <tr>\n",
       "      <th>2</th>\n",
       "      <td>ISIC_0068279</td>\n",
       "      <td>0</td>\n",
       "    </tr>\n",
       "    <tr>\n",
       "      <th>3</th>\n",
       "      <td>ISIC_0074268</td>\n",
       "      <td>0</td>\n",
       "    </tr>\n",
       "    <tr>\n",
       "      <th>4</th>\n",
       "      <td>ISIC_0074311</td>\n",
       "      <td>0</td>\n",
       "    </tr>\n",
       "  </tbody>\n",
       "</table>\n",
       "</div>"
      ],
      "text/plain": [
       "        isic_id  class_label\n",
       "0  ISIC_0015719            0\n",
       "1  ISIC_0052212            0\n",
       "2  ISIC_0068279            0\n",
       "3  ISIC_0074268            0\n",
       "4  ISIC_0074311            0"
      ]
     },
     "execution_count": 12,
     "metadata": {},
     "output_type": "execute_result"
    }
   ],
   "source": [
    "df3 = df3.drop(['benign_malignant'], axis='columns')\n",
    "df3.head()"
   ]
  },
  {
   "cell_type": "code",
   "execution_count": 13,
   "metadata": {
    "execution": {
     "iopub.execute_input": "2024-12-27T01:33:40.517820Z",
     "iopub.status.busy": "2024-12-27T01:33:40.517526Z",
     "iopub.status.idle": "2024-12-27T01:33:40.623754Z",
     "shell.execute_reply": "2024-12-27T01:33:40.622754Z",
     "shell.execute_reply.started": "2024-12-27T01:33:40.517796Z"
    },
    "trusted": true
   },
   "outputs": [
    {
     "name": "stdout",
     "output_type": "stream",
     "text": [
      "train_df:\n",
      "             isic_id  class_label\n",
      "22826  ISIC_6933350            0\n",
      "20292  ISIC_6168551            0\n",
      "29431  ISIC_8896474            0\n",
      "15395  ISIC_4710686            0\n",
      "2333   ISIC_0797476            0\n",
      "...             ...          ...\n",
      "16850  ISIC_5151428            0\n",
      "6265   ISIC_1972876            0\n",
      "11284  ISIC_3476509            0\n",
      "860    ISIC_0361341            0\n",
      "15795  ISIC_4831895            0\n",
      "\n",
      "[26500 rows x 2 columns]\n",
      "test_df:\n",
      "             isic_id  class_label\n",
      "8231   ISIC_2566365            0\n",
      "21862  ISIC_6617618            0\n",
      "3058   ISIC_1018265            0\n",
      "7474   ISIC_2335533            0\n",
      "3470   ISIC_1151910            0\n",
      "...             ...          ...\n",
      "2099   ISIC_0727322            0\n",
      "7420   ISIC_2319387            0\n",
      "26025  ISIC_7900295            0\n",
      "24915  ISIC_7564393            0\n",
      "27017  ISIC_8185610            0\n",
      "\n",
      "[6626 rows x 2 columns]\n",
      "train_df:\n",
      " [0 1]\n",
      "test_df:\n",
      " [0 1]\n"
     ]
    }
   ],
   "source": [
    "# split train\n",
    "from sklearn.model_selection import train_test_split\n",
    "\n",
    "X = df3['isic_id'] \n",
    "y = df3['class_label']\n",
    "\n",
    "X_train, X_test, y_train, y_test = train_test_split(X, y, test_size=0.2,random_state=42)\n",
    "\n",
    "# Create DataFrames for training and testing sets\n",
    "train_df = pd.DataFrame({'isic_id': X_train, 'class_label': y_train})\n",
    "test_df = pd.DataFrame({'isic_id': X_test, 'class_label': y_test})\n",
    "\n",
    "# Print the resulting DataFrames\n",
    "print(\"train_df:\\n\", train_df)\n",
    "print(\"test_df:\\n\", test_df) \n",
    "\n",
    "# Print class labels\n",
    "print(\"train_df:\\n\", train_df[\"class_label\"].unique())\n",
    "print(\"test_df:\\n\", test_df[\"class_label\"].unique()) \n",
    "\n"
   ]
  },
  {
   "cell_type": "markdown",
   "metadata": {},
   "source": [
    "### Pytorch \n"
   ]
  },
  {
   "cell_type": "code",
   "execution_count": 14,
   "metadata": {
    "execution": {
     "iopub.execute_input": "2024-12-27T01:33:40.625191Z",
     "iopub.status.busy": "2024-12-27T01:33:40.624915Z",
     "iopub.status.idle": "2024-12-27T01:33:43.163657Z",
     "shell.execute_reply": "2024-12-27T01:33:43.162686Z",
     "shell.execute_reply.started": "2024-12-27T01:33:40.625164Z"
    },
    "trusted": true
   },
   "outputs": [
    {
     "name": "stdout",
     "output_type": "stream",
     "text": [
      "2.5.1\n"
     ]
    },
    {
     "data": {
      "text/plain": [
       "False"
      ]
     },
     "execution_count": 14,
     "metadata": {},
     "output_type": "execute_result"
    }
   ],
   "source": [
    "# Import for Pytorch\n",
    "import torch\n",
    "from torch import nn, optim\n",
    "from torchvision import datasets, models\n",
    "from torchvision.transforms import v2 as T\n",
    "from torch.utils.data import DataLoader, Dataset\n",
    "from PIL import Image\n",
    "\n",
    "print(torch.__version__)\n",
    "\n",
    "# check if GPU is available\n",
    "torch.cuda.is_available()"
   ]
  },
  {
   "cell_type": "code",
   "execution_count": 15,
   "metadata": {
    "execution": {
     "iopub.execute_input": "2024-12-27T01:33:43.165027Z",
     "iopub.status.busy": "2024-12-27T01:33:43.164623Z",
     "iopub.status.idle": "2024-12-27T01:33:43.230548Z",
     "shell.execute_reply": "2024-12-27T01:33:43.229954Z",
     "shell.execute_reply.started": "2024-12-27T01:33:43.164999Z"
    },
    "trusted": true
   },
   "outputs": [],
   "source": [
    "transform = T.Compose([\n",
    "    T.Resize((224, 224)),  # Resize to match model input\n",
    "    T.ToImage(),  # Convert PIL to TorchImage\n",
    "    T.RandomHorizontalFlip(p=0.5),  # Random horizontal flip\n",
    "    T.RandomRotation(degrees=15),  # Random rotation\n",
    "    T.ColorJitter(brightness=0.3, contrast=0.3, saturation=0.3, hue=0.1),  # Adjust lighting\n",
    "    T.GaussianBlur(kernel_size=5, sigma=(0.1, 2.0)),  # Add blur to mimic image compression\n",
    "    T.RandomAdjustSharpness(sharpness_factor=2, p=0.5),  # Adjust sharpness\n",
    "    T.RandomErasing(p=0.5, scale=(0.02, 0.1)),  # Randomly erase parts of the image\n",
    "    T.ToDtype(torch.float32, scale=True),  # Convert to float tensor with normalization\n",
    "    T.Normalize(mean=[0.485, 0.456, 0.406], std=[0.229, 0.224, 0.225])  # Normalize for ResNet\n",
    "])"
   ]
  },
  {
   "cell_type": "code",
   "execution_count": 16,
   "metadata": {
    "execution": {
     "iopub.execute_input": "2024-12-27T01:33:43.231670Z",
     "iopub.status.busy": "2024-12-27T01:33:43.231459Z",
     "iopub.status.idle": "2024-12-27T01:33:43.237268Z",
     "shell.execute_reply": "2024-12-27T01:33:43.236404Z",
     "shell.execute_reply.started": "2024-12-27T01:33:43.231648Z"
    },
    "trusted": true
   },
   "outputs": [],
   "source": [
    "# Custom Dataset\n",
    "class SkinLesionDataset(Dataset):\n",
    "    def __init__(self, df, transform=None):\n",
    "        self.df = df\n",
    "        self.transform = transform\n",
    "\n",
    "    def __len__(self):\n",
    "        return len(self.df)\n",
    "\n",
    "    def __getitem__(self, idx):\n",
    "        image_id = self.df.iloc[idx, 0]\n",
    "        class_label = self.df.iloc[idx, 1]\n",
    "\n",
    "        img_path = f\"ISIC-images/{image_id}.jpg\" \n",
    "\n",
    "        img = Image.open(img_path).convert(\"RGB\")\n",
    "        if self.transform:\n",
    "            img = self.transform(img)\n",
    "\n",
    "        return img, class_label\n",
    "        "
   ]
  },
  {
   "cell_type": "code",
   "execution_count": 17,
   "metadata": {
    "execution": {
     "iopub.execute_input": "2024-12-27T01:33:43.238559Z",
     "iopub.status.busy": "2024-12-27T01:33:43.238317Z",
     "iopub.status.idle": "2024-12-27T01:33:43.247677Z",
     "shell.execute_reply": "2024-12-27T01:33:43.246778Z",
     "shell.execute_reply.started": "2024-12-27T01:33:43.238535Z"
    },
    "trusted": true
   },
   "outputs": [],
   "source": [
    "# make the data set \n",
    "training_data = SkinLesionDataset(\n",
    "    df = train_df,\n",
    "    transform = transform\n",
    ")\n",
    "\n",
    "test_data = SkinLesionDataset(\n",
    "    df = test_df,\n",
    "    transform = transform\n",
    ")"
   ]
  },
  {
   "cell_type": "code",
   "execution_count": 18,
   "metadata": {
    "execution": {
     "iopub.execute_input": "2024-12-27T01:50:19.451456Z",
     "iopub.status.busy": "2024-12-27T01:50:19.451120Z",
     "iopub.status.idle": "2024-12-27T01:50:19.455693Z",
     "shell.execute_reply": "2024-12-27T01:50:19.454783Z",
     "shell.execute_reply.started": "2024-12-27T01:50:19.451428Z"
    },
    "trusted": true
   },
   "outputs": [],
   "source": [
    "# load the dataset (batch _size 32 for GPU P100)\n",
    "train_dataloader = DataLoader(training_data, batch_size=32, shuffle=True)\n",
    "test_dataloader = DataLoader(test_data, batch_size=32, shuffle=False)"
   ]
  },
  {
   "cell_type": "code",
   "execution_count": 19,
   "metadata": {
    "execution": {
     "iopub.execute_input": "2024-12-27T01:50:22.050235Z",
     "iopub.status.busy": "2024-12-27T01:50:22.049900Z",
     "iopub.status.idle": "2024-12-27T01:50:22.062886Z",
     "shell.execute_reply": "2024-12-27T01:50:22.061913Z",
     "shell.execute_reply.started": "2024-12-27T01:50:22.050206Z"
    },
    "trusted": true
   },
   "outputs": [
    {
     "name": "stdout",
     "output_type": "stream",
     "text": [
      "Using device: mps\n",
      "Class Weights: tensor([ 0.5089, 28.5560], device='mps:0')\n"
     ]
    },
    {
     "name": "stderr",
     "output_type": "stream",
     "text": [
      "/var/folders/fz/yzxc44ln28g5c8n9vvsgs6fw0000gn/T/ipykernel_43787/2056938125.py:4: UserWarning: 'has_mps' is deprecated, please use 'torch.backends.mps.is_built()'\n",
      "  device = torch.device(\"mps\" if torch.has_mps else \"cpu\")\n"
     ]
    }
   ],
   "source": [
    "# incorporate class balancing\n",
    "from sklearn.utils.class_weight import compute_class_weight\n",
    "\n",
    "device = torch.device(\"mps\" if torch.has_mps else \"cpu\")\n",
    "\n",
    "print(f\"Using device: {device}\")\n",
    "\n",
    "class_weights = compute_class_weight('balanced', classes=np.unique(y_train), y=y_train)\n",
    "class_weights = torch.tensor(class_weights, dtype=torch.float).to(device)\n",
    "print(\"Class Weights:\", class_weights)"
   ]
  },
  {
   "cell_type": "code",
   "execution_count": 20,
   "metadata": {
    "execution": {
     "iopub.execute_input": "2024-12-27T01:50:24.869209Z",
     "iopub.status.busy": "2024-12-27T01:50:24.868429Z",
     "iopub.status.idle": "2024-12-27T01:50:24.875674Z",
     "shell.execute_reply": "2024-12-27T01:50:24.874733Z",
     "shell.execute_reply.started": "2024-12-27T01:50:24.869172Z"
    },
    "trusted": true
   },
   "outputs": [],
   "source": [
    "def train_model(model, train_dataloader, device, number_of_epoch, class_weights=class_weights):\n",
    "    \"\"\"\n",
    "    Function to train the model with the given dataloader.\n",
    "\n",
    "    Args:\n",
    "        model (torch.nn.Module): The model to be trained.\n",
    "        train_dataloader (DataLoader): The DataLoader object for training data.\n",
    "        device (torch.device): The device to train the model on (CPU or GPU).\n",
    "        number_of_epoch (int): Number of epochs to train the model for.\n",
    "        class_weights (tensor, optional): Class weights to handle class imbalance (default is None).\n",
    "    \n",
    "    Returns:\n",
    "        model (torch.nn.Module): The trained model.\n",
    "    \"\"\"\n",
    "    # Define loss and optimizer\n",
    "    criterion = nn.CrossEntropyLoss(weight=class_weights)\n",
    "    optimizer = torch.optim.Adam(model.parameters(), lr=1e-5, weight_decay=1e-5)\n",
    "    scheduler = torch.optim.lr_scheduler.ReduceLROnPlateau(optimizer, mode='min', factor=0.1, patience=3)\n",
    "    \n",
    "    # Train the model (simple training loop)\n",
    "    model.train()\n",
    "    for epoch in range(number_of_epoch):  # Use more epochs for real training\n",
    "        running_loss = 0.0\n",
    "        for images, labels in train_dataloader:\n",
    "            images, labels = images.to(device), labels.to(device)\n",
    "\n",
    "            optimizer.zero_grad()\n",
    "            outputs = model(images)\n",
    "            loss = criterion(outputs, labels)\n",
    "            loss.backward()\n",
    "            optimizer.step()\n",
    "        \n",
    "        # Step the learning rate scheduler after each epoch\n",
    "        scheduler.step(loss)\n",
    "        \n",
    "        print(f\"Epoch [{epoch+1}/{number_of_epoch}], Loss: {loss.item():.4f}\")\n",
    "    \n",
    "    return model"
   ]
  },
  {
   "cell_type": "code",
   "execution_count": 21,
   "metadata": {
    "execution": {
     "iopub.execute_input": "2024-12-27T01:33:43.768761Z",
     "iopub.status.busy": "2024-12-27T01:33:43.768396Z",
     "iopub.status.idle": "2024-12-27T01:33:43.778667Z",
     "shell.execute_reply": "2024-12-27T01:33:43.778029Z",
     "shell.execute_reply.started": "2024-12-27T01:33:43.768696Z"
    },
    "trusted": true
   },
   "outputs": [],
   "source": [
    "def evaluate_model(model, test_dataloader, device):\n",
    "    \"\"\"\n",
    "    Function to evaluate the model on the test data.\n",
    "\n",
    "    Args:\n",
    "        model (torch.nn.Module): The trained model.\n",
    "        test_dataloader (DataLoader): The DataLoader object for test data.\n",
    "        device (torch.device): The device to evaluate the model on (CPU or GPU).\n",
    "    \n",
    "    Returns:\n",
    "        accuracy (float): Accuracy of the model on the test set.\n",
    "    \"\"\"\n",
    "    model.eval()\n",
    "    correct, total = 0, 0\n",
    "    with torch.no_grad():\n",
    "        for images, labels in test_dataloader:\n",
    "            images, labels = images.to(device), labels.to(device)\n",
    "            outputs = model(images)\n",
    "            _, preds = torch.max(outputs, 1)\n",
    "            total += labels.size(0)\n",
    "            correct += (preds == labels).sum().item()\n",
    "\n",
    "    accuracy = correct / total\n",
    "    print(f\"Accuracy: {accuracy:.4f}\")\n",
    "    return accuracy"
   ]
  },
  {
   "cell_type": "code",
   "execution_count": 22,
   "metadata": {
    "execution": {
     "iopub.execute_input": "2024-12-27T01:33:43.780359Z",
     "iopub.status.busy": "2024-12-27T01:33:43.779896Z",
     "iopub.status.idle": "2024-12-27T01:33:43.923430Z",
     "shell.execute_reply": "2024-12-27T01:33:43.922365Z",
     "shell.execute_reply.started": "2024-12-27T01:33:43.780321Z"
    },
    "trusted": true
   },
   "outputs": [],
   "source": [
    "\n",
    "def test_model(model_name, num_classes, train_dataloader, test_dataloader, device, class_weights, number_of_epoch=10):\n",
    "    \"\"\"\n",
    "    Function to test a model by training and evaluating it.\n",
    "\n",
    "    Args:\n",
    "        model_name (str): Name of the model ('resnet18', 'resnet34', 'resnet50', etc.).\n",
    "        num_classes (int): Number of classes in your dataset.\n",
    "        train_dataloader (DataLoader): DataLoader for training data.\n",
    "        test_dataloader (DataLoader): DataLoader for test data.\n",
    "        device (torch.device): Device to run the model on (CPU or GPU).\n",
    "        class_weights (tensor): Class weights to handle class imbalance.\n",
    "        number_of_epoch (int): Number of epochs for training.\n",
    "    \n",
    "    Returns:\n",
    "        accuracy (float): The model's accuracy on the test set.\n",
    "    \"\"\"\n",
    "    print(f\"Testing {model_name}...\")\n",
    "\n",
    "    # Load the model based on the model name\n",
    "    if model_name == 'resnet18':\n",
    "        model = models.resnet18(pretrained=True)\n",
    "        model.fc = nn.Linear(model.fc.in_features, num_classes)  # Modify the final layer for your classes\n",
    "    elif model_name == 'resnet34':\n",
    "        model = models.resnet34(pretrained=True)\n",
    "        model.fc = nn.Linear(model.fc.in_features, num_classes)\n",
    "    elif model_name == 'resnet50':\n",
    "        model = models.resnet50(pretrained=True)\n",
    "        model.fc = nn.Linear(model.fc.in_features, num_classes)\n",
    "    elif model_name == 'efficientnet_b0':\n",
    "        model = models.efficientnet_b0(pretrained=True)  # EfficientNet B0 from torchvision\n",
    "        model.classifier[1] = nn.Linear(model.classifier[1].in_features, num_classes)  # Modify classifier layer\n",
    "    elif model_name == 'efficientnet_b3':\n",
    "        model = models.efficientnet_b3(pretrained=True)  # EfficientNet B3 from torchvision\n",
    "        model.classifier[1] = nn.Linear(model.classifier[1].in_features, num_classes)\n",
    "    elif model_name == 'densenet121':\n",
    "        model = models.densenet121(pretrained=True)  # DenseNet 121\n",
    "        model.classifier = nn.Linear(model.classifier.in_features, num_classes)  # Modify classifier layer\n",
    "    elif model_name == 'densenet169':\n",
    "        model = models.densenet169(pretrained=True)  # DenseNet 169\n",
    "        model.classifier = nn.Linear(model.classifier.in_features, num_classes)\n",
    "    elif model_name == 'densenet201':\n",
    "        model = models.densenet201(pretrained=True)  # DenseNet 201\n",
    "        model.classifier = nn.Linear(model.classifier.in_features, num_classes)\n",
    "    else:\n",
    "        raise ValueError(f\"Model {model_name} is not supported.\")\n",
    "    \n",
    "    # Move model to device (GPU or CPU)\n",
    "    model = model.to(device)\n",
    "\n",
    "    # Train the model using the train_model function (with class weights)\n",
    "    model = train_model(model, train_dataloader, device, number_of_epoch, class_weights)\n",
    "\n",
    "    # Evaluate the model on the test set\n",
    "    accuracy = evaluate_model(model, test_dataloader, device)\n",
    "    \n",
    "    return accuracy"
   ]
  },
  {
   "cell_type": "code",
   "execution_count": 23,
   "metadata": {
    "execution": {
     "iopub.execute_input": "2024-12-27T01:33:43.924840Z",
     "iopub.status.busy": "2024-12-27T01:33:43.924538Z",
     "iopub.status.idle": "2024-12-27T01:36:29.354846Z",
     "shell.execute_reply": "2024-12-27T01:36:29.353488Z",
     "shell.execute_reply.started": "2024-12-27T01:33:43.924812Z"
    },
    "trusted": true
   },
   "outputs": [],
   "source": [
    "# # List of models to test 'resnet18', 'resnet34', 'resnet50', 'densenet121', 'densenet169', 'densenet201', 'efficientnet_b0', 'efficientnet_b3'\n",
    "# model_names = [ 'resnet18', 'densenet121', 'efficientnet_b0']\n",
    "\n",
    "# # Dictionary to store results\n",
    "# results = {}\n",
    "\n",
    "# # Assuming the following are defined:\n",
    "# # - train_dataloader: Your training data loader\n",
    "# # - test_dataloader: Your testing data loader\n",
    "# # - device: The device (CPU or GPU) to run the model\n",
    "# # - class_weights: The computed class weights to handle imbalance\n",
    "# # - num_classes: Number of classes in the dataset (e.g., 7 for HAM10000)\n",
    "\n",
    "# # Loop through each model name, call test_model and store the results\n",
    "# for model_name in model_names:\n",
    "#     results[model_name] = test_model(\n",
    "#         model_name=model_name, \n",
    "#         num_classes=2,  # Replace with the actual number of classes in your dataset\n",
    "#         train_dataloader=train_dataloader, \n",
    "#         test_dataloader=test_dataloader,\n",
    "#         device=device,  # Ensure your device is correctly defined (e.g., 'cuda' or 'cpu')\n",
    "#         class_weights=class_weights,  # Include the class weights here\n",
    "#         number_of_epoch=10  # Adjust the number of epochs as needed\n",
    "#     )\n",
    "\n",
    "# # Print the results for all models\n",
    "# print(\"Results:\", results)\n"
   ]
  },
  {
   "cell_type": "markdown",
   "metadata": {},
   "source": [
    "### Model to train with\n",
    "\n",
    "Resnet trained to 91%\n"
   ]
  },
  {
   "cell_type": "code",
   "execution_count": 24,
   "metadata": {
    "execution": {
     "iopub.execute_input": "2024-12-27T02:04:22.252155Z",
     "iopub.status.busy": "2024-12-27T02:04:22.251678Z",
     "iopub.status.idle": "2024-12-27T02:04:23.280352Z",
     "shell.execute_reply": "2024-12-27T02:04:23.279466Z",
     "shell.execute_reply.started": "2024-12-27T02:04:22.252106Z"
    },
    "trusted": true
   },
   "outputs": [
    {
     "name": "stderr",
     "output_type": "stream",
     "text": [
      "/opt/homebrew/Caskroom/miniconda/base/envs/pytorch_env/lib/python3.9/site-packages/torchvision/models/_utils.py:208: UserWarning: The parameter 'pretrained' is deprecated since 0.13 and may be removed in the future, please use 'weights' instead.\n",
      "  warnings.warn(\n",
      "/opt/homebrew/Caskroom/miniconda/base/envs/pytorch_env/lib/python3.9/site-packages/torchvision/models/_utils.py:223: UserWarning: Arguments other than a weight enum or `None` for 'weights' are deprecated since 0.13 and may be removed in the future. The current behavior is equivalent to passing `weights=ResNet50_Weights.IMAGENET1K_V1`. You can also use `weights=ResNet50_Weights.DEFAULT` to get the most up-to-date weights.\n",
      "  warnings.warn(msg)\n"
     ]
    }
   ],
   "source": [
    "# Train the model on Resnet50\n",
    "model = models.resnet50(pretrained=True)  # Resnet50 from torchvision\n",
    "model.fc = nn.Linear(model.fc.in_features, 2)\n",
    "# Move model to GPU if available\n",
    "\n",
    "model = model.to(device)"
   ]
  },
  {
   "cell_type": "code",
   "execution_count": 25,
   "metadata": {
    "execution": {
     "execution_failed": "2024-12-27T02:45:05.562Z",
     "iopub.execute_input": "2024-12-27T02:04:27.725864Z",
     "iopub.status.busy": "2024-12-27T02:04:27.725509Z"
    },
    "trusted": true
   },
   "outputs": [
    {
     "name": "stdout",
     "output_type": "stream",
     "text": [
      "Epoch [1/10], Loss: 0.2595\n",
      "Epoch [2/10], Loss: 0.3915\n",
      "Epoch [3/10], Loss: 0.2171\n",
      "Epoch [4/10], Loss: 0.2725\n",
      "Epoch [5/10], Loss: 0.2234\n",
      "Epoch [6/10], Loss: 0.1695\n",
      "Epoch [7/10], Loss: 0.0924\n",
      "Epoch [8/10], Loss: 0.2791\n",
      "Epoch [9/10], Loss: 0.1961\n",
      "Epoch [10/10], Loss: 0.2903\n",
      "Accuracy: 0.9105\n",
      "0.9105040748566254\n"
     ]
    }
   ],
   "source": [
    "# Train the model\n",
    "trained_model = train_model(model, train_dataloader, device, number_of_epoch=10)\n",
    "\n",
    "# Evaluate the trained model\n",
    "accuracy = evaluate_model(trained_model, test_dataloader, device)\n",
    "\n",
    "print(accuracy)\n"
   ]
  },
  {
   "cell_type": "markdown",
   "metadata": {},
   "source": []
  },
  {
   "cell_type": "code",
   "execution_count": 26,
   "metadata": {
    "execution": {
     "execution_failed": "2024-12-27T02:45:05.562Z"
    },
    "trusted": true
   },
   "outputs": [],
   "source": [
    "torch.save(model.state_dict(), \"resnet50_skin_cancer.pth\")\n",
    " "
   ]
  }
 ],
 "metadata": {
  "kaggle": {
   "accelerator": "none",
   "dataSources": [
    {
     "datasetId": 6377303,
     "sourceId": 10302913,
     "sourceType": "datasetVersion"
    }
   ],
   "dockerImageVersionId": 30804,
   "isGpuEnabled": false,
   "isInternetEnabled": true,
   "language": "python",
   "sourceType": "notebook"
  },
  "kernelspec": {
   "display_name": "pytorch_env",
   "language": "python",
   "name": "python3"
  },
  "language_info": {
   "codemirror_mode": {
    "name": "ipython",
    "version": 3
   },
   "file_extension": ".py",
   "mimetype": "text/x-python",
   "name": "python",
   "nbconvert_exporter": "python",
   "pygments_lexer": "ipython3",
   "version": "3.9.21"
  }
 },
 "nbformat": 4,
 "nbformat_minor": 4
}
